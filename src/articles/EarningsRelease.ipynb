{
 "cells": [
  {
   "cell_type": "code",
   "execution_count": 8,
   "id": "5804494b-f59c-4e46-8731-e18f53392a87",
   "metadata": {},
   "outputs": [],
   "source": [
    "from IPython.display import IFrame"
   ]
  },
  {
   "cell_type": "markdown",
   "id": "89fa0e1f-6431-440a-b698-b7a2289eb4cf",
   "metadata": {},
   "source": [
    "## How I trade corporate earnings releases"
   ]
  },
  {
   "cell_type": "markdown",
   "id": "3f05e339-5a1f-4edc-bb67-ad23d46ad0cf",
   "metadata": {},
   "source": [
    "Last Updated: **2024-06-02**\n",
    "\n",
    "Since May 2024, I've had some success in trading corporate earnings announcements and I am outlining my strategy for the sake  of explaining to anyone interested what I do, collaboration and ideally useful feedback \n",
    "\n",
    "  In a nutshell: The implied volatility surface (IVS) of US stocks prior to quarterly earnings announcements is highly elevated, dropping sharply following the release   The actual stock price move often falls short of the implied move. Nonetheless, swings of +/- 25% are frequent. I built up positions across the IVS based on its estimat    drop and stress tests across a +/-20% move ensuring that the estimated return is higest no move (because that's most frequent) and no loss in the wings, i.e., mo\n",
    "    beyond +/-\n",
    "\n",
    "For example, take CRM (Salesforce) announcing quarterly earnings on 2024-05-29 after market close. The median IVS before announcement:0%.  "
   ]
  },
  {
   "cell_type": "code",
   "execution_count": 9,
   "id": "89630391-b92a-4bf3-a311-aebbb4cb37be",
   "metadata": {},
   "outputs": [
    {
     "data": {
      "text/html": [
       "\n",
       "        <iframe\n",
       "            width=\"100%\"\n",
       "            height=\"600\"\n",
       "            src=\"/figures/ivs0.html\"\n",
       "            frameborder=\"0\"\n",
       "            allowfullscreen\n",
       "            \n",
       "        ></iframe>\n",
       "        "
      ],
      "text/plain": [
       "<IPython.lib.display.IFrame at 0x186d2d85c90>"
      ]
     },
     "execution_count": 9,
     "metadata": {},
     "output_type": "execute_result"
    }
   ],
   "source": [
    "IFrame(src='figures/ivs0.html', width='100%', height=600)"
   ]
  },
  {
   "cell_type": "markdown",
   "id": "be632430-348f-4de7-9915-2290ee89a65f",
   "metadata": {},
   "source": [
    "One day later, a very approximate median of all IVs of that day:"
   ]
  },
  {
   "cell_type": "code",
   "execution_count": 10,
   "id": "71f6c071-ff08-4cd3-8617-a1be8932025a",
   "metadata": {},
   "outputs": [
    {
     "data": {
      "text/html": [
       "\n",
       "        <iframe\n",
       "            width=\"100%\"\n",
       "            height=\"600\"\n",
       "            src=\"/figures/ivs1.html\"\n",
       "            frameborder=\"0\"\n",
       "            allowfullscreen\n",
       "            \n",
       "        ></iframe>\n",
       "        "
      ],
      "text/plain": [
       "<IPython.lib.display.IFrame at 0x186d2d87f10>"
      ]
     },
     "execution_count": 10,
     "metadata": {},
     "output_type": "execute_result"
    }
   ],
   "source": [
    "IFrame(src='figures/ivs1.html', width='100%', height=600)"
   ]
  },
  {
   "cell_type": "markdown",
   "id": "bac51ccd-bdc9-4dde-9d4c-98e7d845538f",
   "metadata": {},
   "source": [
    "The net shows that for most of the surface, we see a decline of ~2%. Generally, my approximate estimate of IV changes\n",
    "    for tenors above 1 is -2%, -2% to -6% for tenors between 0.05 and 1 and and 50% decline for the front month. Interestingly, here the front month is even elevated.\n",
    "    CRM experienced a ~20% drop, meaning whatever was ATM before release is not OTM/ITM and IV is less relevant."
   ]
  },
  {
   "cell_type": "code",
   "execution_count": 11,
   "id": "c7fdc6de-bfd0-4108-863c-0ecebba16476",
   "metadata": {},
   "outputs": [
    {
     "data": {
      "text/html": [
       "\n",
       "        <iframe\n",
       "            width=\"100%\"\n",
       "            height=\"600\"\n",
       "            src=\"/figures/ivs_net.html\"\n",
       "            frameborder=\"0\"\n",
       "            allowfullscreen\n",
       "            \n",
       "        ></iframe>\n",
       "        "
      ],
      "text/plain": [
       "<IPython.lib.display.IFrame at 0x186d2d85350>"
      ]
     },
     "execution_count": 11,
     "metadata": {},
     "output_type": "execute_result"
    }
   ],
   "source": [
    "IFrame(src='figures/ivs_net.html', width='100%', height=600)"
   ]
  },
  {
   "cell_type": "markdown",
   "id": "c9d77b4b-d054-4821-874e-0aee57ccfd53",
   "metadata": {},
   "source": [
    "Now, should one simply short the front? No. A quick look at the mean vega surface across all option rights and both days shows that front month IV changes have a significantly smaller impact on pnl. But front months are great delta hedges with larger gamma. That was somewhat surprisingly actually, also executed by my portfolio optimizer. During trading, it longed the smallest tenor expiring in a couple days, but shorted options just next week and beyond. Vega surface for reference:"
   ]
  },
  {
   "cell_type": "code",
   "execution_count": 12,
   "id": "1e53a031-42d7-47f7-a05c-b15dd54d4d4f",
   "metadata": {},
   "outputs": [
    {
     "data": {
      "text/html": [
       "\n",
       "        <iframe\n",
       "            width=\"100%\"\n",
       "            height=\"600\"\n",
       "            src=\"/figures/vega_mean.html\"\n",
       "            frameborder=\"0\"\n",
       "            allowfullscreen\n",
       "            \n",
       "        ></iframe>\n",
       "        "
      ],
      "text/plain": [
       "<IPython.lib.display.IFrame at 0x186d3438310>"
      ]
     },
     "execution_count": 12,
     "metadata": {},
     "output_type": "execute_result"
    }
   ],
   "source": [
    "IFrame(src='figures/vega_mean.html', width='100%', height=600)"
   ]
  },
  {
   "cell_type": "markdown",
   "id": "26f2eabb-fc62-4b91-8f54-786bca27119b",
   "metadata": {},
   "source": [
    "The interplay of IVs dropping, vega, delta, gamma, skew and having to choose from 100+ options creates ample opportunity for inefficiences and opportunity.\n",
    "\n",
    "Given market snapshots, an estimated IVS post earnings release and a fill model (execution matters a lot), we can derive \n",
    " and pnl profile for any dS, move in the underlying. Here, the IV net has been estimated, but the delta spot is varied.   Note the 3 scatter lines as indication for how important a good execution is. Upper bound is a rather theoretical bound wher   the spread is earned for all fill. THe lower blue indicates spread is paid for every fill. Red is estimated. More spread is earned wherever tradi    volume is high, more is paid for large tenors with low trading volumes. The estimate PnL peaks around no change in stock price, beca\n",
    "    that's most common and the wings are elevated in order to lose it all over a massive wing."
   ]
  },
  {
   "cell_type": "code",
   "execution_count": 13,
   "id": "dc25777b-eab1-4afc-9197-4cdc50ffcd30",
   "metadata": {},
   "outputs": [
    {
     "data": {
      "text/html": [
       "\n",
       "        <iframe\n",
       "            width=\"1200\"\n",
       "            height=\"1400\"\n",
       "            src=\"/figures/CRM_240529_figdSdIV_iteration.html\"\n",
       "            frameborder=\"0\"\n",
       "            allowfullscreen\n",
       "            \n",
       "        ></iframe>\n",
       "        "
      ],
      "text/plain": [
       "<IPython.lib.display.IFrame at 0x186d2d84150>"
      ]
     },
     "execution_count": 13,
     "metadata": {},
     "output_type": "execute_result"
    }
   ],
   "source": [
    "IFrame(src='figures/CRM_240529_figdSdIV_iteration.html', width=1200, height=1400)"
   ]
  },
  {
   "cell_type": "markdown",
   "id": "fcfbf4d0-9a52-4d13-88b7-2b3861fe3a9e",
   "metadata": {},
   "source": [
    "I managed to earn 2,000 USD on CRM with a portfolio of 20 option, over 2 days. Previously, I hit in between estimated and worst fill. Couple of reasons or optimistally put, areas of improvement:  \n",
    "- Delta IV Estimation error. The more accurate the forecast, the more vega you can earn.\n",
    "- Execution / spread. Option spreads are large. Paying the spread would easily eat up all vega profits. The more fills are needed throughout the day, the more spread one may need to pay.\n",
    "- Execution / delta hedging costs. Calculated deltas are not perfect. But more importantly, fairly often  my option fills were accompanied by small stock price jumps chipping away profit when delta hedging too late. That could be remediated by less latency and market orders, but that's to be investigated. And in my experience, Interactive Brokers does not submit orders quickly."
   ]
  },
  {
   "cell_type": "markdown",
   "id": "67bfe5de-4a92-49f6-9a0b-4346dccedfdc",
   "metadata": {},
   "source": [
    "I am working on improvements. In the meantime, comment below or message me directly (see landing page)"
   ]
  }
 ],
 "metadata": {
  "kernelspec": {
   "display_name": "Python 3 (ipykernel)",
   "language": "python",
   "name": "python3"
  },
  "language_info": {
   "codemirror_mode": {
    "name": "ipython",
    "version": 3
   },
   "file_extension": ".py",
   "mimetype": "text/x-python",
   "name": "python",
   "nbconvert_exporter": "python",
   "pygments_lexer": "ipython3",
   "version": "3.11.5"
  }
 },
 "nbformat": 4,
 "nbformat_minor": 5
}
